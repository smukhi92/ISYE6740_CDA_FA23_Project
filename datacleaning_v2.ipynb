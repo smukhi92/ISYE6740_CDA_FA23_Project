{
 "cells": [
  {
   "cell_type": "code",
   "execution_count": 2,
   "metadata": {},
   "outputs": [],
   "source": [
    "import pandas as pd\n",
    "import pandasql as ps"
   ]
  },
  {
   "cell_type": "code",
   "execution_count": 20,
   "metadata": {},
   "outputs": [],
   "source": [
    "df = pd.read_csv('nba_cleaned_data.csv')\n",
    "#note NaN values for \"quincy Douby in cleaned data set\"\n",
    "all_nba = pd.read_csv('data/End of Season Teams.csv')\n",
    "awards = pd.read_csv('data/Player Award Shares.csv')\n"
   ]
  },
  {
   "cell_type": "code",
   "execution_count": 21,
   "metadata": {},
   "outputs": [],
   "source": [
    "#remove early seasons\n",
    "all_nba = ps.sqldf(\"\"\"SELECT * FROM all_nba WHERE season >= 1980\"\"\")\n",
    "awards = ps.sqldf(\"\"\"SELECT * FROM awards WHERE season >= 1980 and winner = TRUE\"\"\")\n"
   ]
  },
  {
   "cell_type": "code",
   "execution_count": 22,
   "metadata": {},
   "outputs": [],
   "source": [
    "query = \"\"\"SELECT player_id, \n",
    "            COUNT(CASE WHEN type = 'All-NBA' then 1 END) AS 'ALL_NBA_total',\n",
    "            COUNT(CASE WHEN type = 'All-Defense' then 1 END) AS 'ALL_DEF_total',\n",
    "            COUNT(CASE WHEN type = 'All-NBA' AND number_tm = '1st' then 1 END) AS '1T_ALL_NBA_total',\n",
    "            COUNT(CASE WHEN type = 'All-NBA' AND number_tm = '2nd' then 1 END) AS '2T_ALL_NBA_total',\n",
    "            COUNT(CASE WHEN type = 'All-NBA' AND number_tm = '3rd' then 1 END) AS '3T_ALL_NBA_total',\n",
    "            COUNT(CASE WHEN type = 'All-Defense' AND number_tm = '1st' then 1 END) AS '1T_ALL_DEF_total',\n",
    "            COUNT(CASE WHEN type = 'All-Defense' AND number_tm = '2nd' then 1 END) AS '2T_ALL_DEF_total'\n",
    "            FROM all_nba\n",
    "            GROUP BY player_id\"\"\"\n",
    "\n",
    "all_nba_totals = ps.sqldf(query)"
   ]
  },
  {
   "cell_type": "code",
   "execution_count": 23,
   "metadata": {},
   "outputs": [],
   "source": [
    "query = \"\"\"SELECT player_id, \n",
    "            COUNT(CASE WHEN award = 'dpoy' then 1 END) AS 'DPOY_total',\n",
    "            COUNT(CASE WHEN award = 'mip' then 1 END) AS 'MIP_total',\n",
    "            COUNT(CASE WHEN award = 'nba mvp' then 1 END) AS 'MVP_total',\n",
    "            COUNT(CASE WHEN award = 'nba roy' then 1 END) AS 'ROY_total',\n",
    "            COUNT(CASE WHEN award = 'smoy' then 1 END) AS 'SMOY_total'\n",
    "            FROM awards\n",
    "            GROUP BY player_id\"\"\"\n",
    "\n",
    "award_totals = ps.sqldf(query)\n"
   ]
  },
  {
   "cell_type": "code",
   "execution_count": 24,
   "metadata": {},
   "outputs": [],
   "source": [
    "query = \"\"\"SELECT df.*, all_nba_totals.* FROM df LEFT JOIN all_nba_totals on df.player_id = all_nba_totals.player_id\"\"\"\n",
    "df2 = ps.sqldf(query)\n",
    "df2 = df2.drop('Unnamed: 0', axis =1)\n",
    "df2 = df2.loc[:,~df2.columns.duplicated()].copy()\n"
   ]
  },
  {
   "cell_type": "code",
   "execution_count": 25,
   "metadata": {},
   "outputs": [],
   "source": [
    "query = \"\"\"SELECT df2.*, award_totals.* FROM df2 LEFT JOIN award_totals on df2.player_id = award_totals.player_id\"\"\"\n",
    "df3 = ps.sqldf(query)\n",
    "df3 = df3.loc[:,~df3.columns.duplicated()].copy()"
   ]
  },
  {
   "cell_type": "code",
   "execution_count": 26,
   "metadata": {},
   "outputs": [
    {
     "data": {
      "text/plain": [
       "Index(['avg_ows_48', 'avg_dws_48', 'max_ows_48', 'max_dws_48'], dtype='object')"
      ]
     },
     "execution_count": 26,
     "metadata": {},
     "output_type": "execute_result"
    }
   ],
   "source": [
    "df.columns[df.isnull().any()]"
   ]
  },
  {
   "cell_type": "code",
   "execution_count": 33,
   "metadata": {},
   "outputs": [],
   "source": [
    "df3 = df3.fillna(0)"
   ]
  },
  {
   "cell_type": "code",
   "execution_count": 35,
   "metadata": {},
   "outputs": [],
   "source": [
    "df3.to_csv('nba_cleaned_data_v2.csv')"
   ]
  }
 ],
 "metadata": {
  "kernelspec": {
   "display_name": "CondaVenv1",
   "language": "python",
   "name": "python3"
  },
  "language_info": {
   "codemirror_mode": {
    "name": "ipython",
    "version": 3
   },
   "file_extension": ".py",
   "mimetype": "text/x-python",
   "name": "python",
   "nbconvert_exporter": "python",
   "pygments_lexer": "ipython3",
   "version": "3.11.5"
  }
 },
 "nbformat": 4,
 "nbformat_minor": 2
}
